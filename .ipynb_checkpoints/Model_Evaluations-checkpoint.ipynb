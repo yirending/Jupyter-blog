{
 "cells": [
  {
   "cell_type": "markdown",
   "metadata": {},
   "source": [
    "# Understanding Model Evaluations\n",
    "\n",
    "**Elan Ding**<br/>\n",
    "_Modified_: June 17, 2018"
   ]
  },
  {
   "cell_type": "markdown",
   "metadata": {},
   "source": [
    "If you understand basic statistics, then you have probably heard of `Type I error` and `Type II error` before.  Here is an excellent [illustration](https://marginalrevolution.com/marginalrevolution/2014/05/type-i-and-type-ii-errors-simplified.html):\n",
    "$\\newcommand{\\bs}{\\boldsymbol}$\n",
    "$\\newcommand{\\argmin}[1]{\\underset{\\bs{#1}}{\\text{arg min}}\\,}$\n",
    "$\\newcommand{\\argmax}[1]{\\underset{\\bs{#1}}{\\text{arg max}}\\,}$\n",
    "$\\newcommand{\\tr}{^{\\top}}$\n",
    "$\\newcommand{\\norm}[1]{\\left|\\left|\\,#1\\,\\right|\\right|}$"
   ]
  },
  {
   "cell_type": "markdown",
   "metadata": {},
   "source": [
    "<img src=\"1.png\" width=70% align=\"center\">"
   ]
  },
  {
   "cell_type": "markdown",
   "metadata": {},
   "source": [
    "We encounter two new terms in the picture: `False Positive (FP)` and `False Negative (FN)`.  It gets better! All of the following concepts are used to refer to the same concept in model evaluations: \n",
    "\n",
    "* $\\alpha, \\beta$\n",
    "* type I error, type II error\n",
    "* false positive, false negative\n",
    "* power, sensitivity, specificity\n",
    "* precision, recall"
   ]
  },
  {
   "cell_type": "markdown",
   "metadata": {},
   "source": [
    "This is overwhelming at first, but in reality they all refer to the same concept which I will explain in this post."
   ]
  },
  {
   "cell_type": "markdown",
   "metadata": {},
   "source": [
    "## Change of perspective"
   ]
  },
  {
   "cell_type": "markdown",
   "metadata": {},
   "source": [
    "Classification modeling is nothing more than hypothesis testing, where the classification method is determined by the rejection region of the hypothesis test. So, let's quickly review hypothesis testing."
   ]
  },
  {
   "cell_type": "markdown",
   "metadata": {},
   "source": [
    "> **Definition**. A **hypothesis test** is a statement:\n",
    ">\n",
    ">$$\n",
    "\\begin{aligned}\n",
    "H_0 &: \\theta \\in \\Theta_0 \\\\\n",
    "H_1 &: \\theta \\in \\Theta_0^c\n",
    "\\end{aligned}\n",
    "$$\n",
    ">\n",
    ">where $H_0$ is the **null hypothesis**, and $H_1$ is the **alternative hypothesis**.  The set $\\Theta_0$ is the **null space**, and the set $\\Theta_0^c$ is the **alternative space**. The subset $R$ of the sample space $\\mathcal{X}$ of the random vector $\\bs{X}$ is called the **rejection region**. The function\n",
    ">\n",
    ">$$\n",
    "\\delta(\\bs{X}) = I(\\bs{X}\\in R)\n",
    "$$\n",
    ">\n",
    ">where $I(\\cdots)$ is the indicator function, is called the **test function**."
   ]
  },
  {
   "cell_type": "markdown",
   "metadata": {},
   "source": [
    "In terms of classification, the parameter $\\theta$ is the variable $Y$ we are trying to classify.  Let's use logistic regression for binary classification as an example.  In this case, the model seeks the values $(\\beta_0, \\bs{\\beta})$ that maximizes the likelihood function\n",
    "\n",
    "$$\n",
    "L(\\beta_0, \\bs{\\beta}) = \\prod_{i:Y_i=1} p(\\bs{X}_i) \\prod_{i:Y_i=0} (1-p(\\bs{X}_i))\n",
    "$$"
   ]
  },
  {
   "cell_type": "markdown",
   "metadata": {},
   "source": [
    "where the vector $\\bs{X}_i$ is the $i$th observed data, the scaler $Y_i$ takes on values 0 or 1, and\n",
    "\n",
    "$$\n",
    "\\begin{aligned}\n",
    "p(\\bs{X}) &= E(Y\\,|\\, \\bs{X}) \\\\\n",
    "&= P(Y=1\\,|\\, \\bs{X}) \\\\\n",
    "&= \\frac{e^{\\beta_0 + \\bs{\\beta}\\tr \\bs{X}}}{1+e^{\\beta_0 + \\bs{\\beta}\\tr\\bs{X}}} = 1-P(Y=0\\,|\\, \\bs{X}).\n",
    "\\end{aligned}\n",
    "$$"
   ]
  },
  {
   "cell_type": "markdown",
   "metadata": {},
   "source": [
    "Note that $\\theta$ is unknown. It is the parameter that we are trying to estimate. Based on the observed data $\\{\\bs{X}_1, \\cdots \\bs{X}_n\\}$, we can *estimate* it using the *maximum likelihood estimator* (MLE). After we have determined the MLE to be $\\widehat{\\theta}$, we can estimate the probability of any given data $\\bs{X}$ by $\\widehat{p}(\\bs{X})$."
   ]
  },
  {
   "cell_type": "markdown",
   "metadata": {},
   "source": [
    "Next, we need to make a decision of whether the associated $Y$ value is 0 or 1.  We define a *threshhold* $c$ such that if $\\widehat{p}(\\bs{X})>c$ we classify $Y$ as 1, and 0 otherwise. (This makes sense since $p(\\bs{X})$ represents the probability that $Y=1$ given $\\bs{X}$.)"
   ]
  },
  {
   "cell_type": "markdown",
   "metadata": {},
   "source": [
    "If the test set has $n$ elements, classifying these elements is equivalent of running $n$ hypothesis tests, where the $i$th one is of the form\n",
    "\n",
    "$$\n",
    "\\begin{aligned}\n",
    "H_0 &: Y_i = 0 \\\\\n",
    "H_1 &: Y_i = 1\n",
    "\\end{aligned}\n",
    "$$"
   ]
  },
  {
   "cell_type": "markdown",
   "metadata": {},
   "source": [
    "Since this is a simple hypothesis test, we can invoke the `Neyman-Pearson Lemma`, which states that for this type of hypothesis test, we can find the `Uniformly Most Powerful` (UMP) size-$\\alpha$ test (i.e. the test that has the smallest false negative error rate given that the false positive error rate is $\\alpha$). Don't worry if these don't make sense now. It will be made clear later. Basically we can find the *best* test to have the test function\n",
    "\n",
    "$$\n",
    "\\delta(\\bs{X}) = I\\left(\\frac{p(\\bs{X})}{1-p(\\bs{X})}>k\\right).\n",
    "$$"
   ]
  },
  {
   "cell_type": "markdown",
   "metadata": {},
   "source": [
    "Using a little algebra, with a different *threshold* $c$, we can show that this test function is equivalent to\n",
    "\n",
    "$$\n",
    "\\delta(\\bs{X}) = I(p(\\bs{X}) >c).\n",
    "$$"
   ]
  },
  {
   "cell_type": "markdown",
   "metadata": {},
   "source": [
    "(As a sidenote, if we take log of the ratio $p(\\bs{X})/(1-p(\\bs{X}))$ in the original test function, and by noting that log is a monotone function, we get a rejection region equivalent to\n",
    "\n",
    "$$\\beta_0 + \\bs{\\beta}\\tr \\bs{X} > \\ln k.$$\n",
    "\n",
    "This is a linear function! This is why logistic regression (like [linear discriminat analysis](https://elanding.xyz/blog/2018/Principal-component-analysis-1.html)) have a linear `decision boundary`. Neat, right?"
   ]
  },
  {
   "cell_type": "markdown",
   "metadata": {},
   "source": [
    "In most cases, we choose $c$ to be 0.5 since this makes the most intuitive sense.  By varying the values of $c$, we are changing the ability of the test to make a rejection."
   ]
  },
  {
   "cell_type": "markdown",
   "metadata": {},
   "source": [
    "# The power function"
   ]
  },
  {
   "cell_type": "markdown",
   "metadata": {},
   "source": [
    "We are now ready to define `Type I error` and `Type II error`. \n",
    "\n",
    "> **Definition**. The **Type I error** is defined by\n",
    ">\n",
    ">$$\n",
    "P_{\\theta}(\\bs{X}\\in R ), \\quad \\text{ for } \\theta \\in \\Theta_0,\n",
    "$$\n",
    ">\n",
    ">and the **Type II error** is defined by\n",
    ">\n",
    ">$$\n",
    "P_{\\theta}(\\bs{X}\\in R^c), \\quad \\text{ for } \\theta \\in \\Theta_0^c.\n",
    "$$"
   ]
  },
  {
   "cell_type": "markdown",
   "metadata": {},
   "source": [
    "In words, the **Type I error** is the probability of falsely rejecting the null hypothesis, and the **Type II error** is the probability of failing to reject a false null hypothesis.  In this regard, the Type I error is the same as `False Postive` (FP or $\\alpha$) (think of the word \"positive\" as making a rejection), and Type II error is the same as `False Negative` (FN or $\\beta$).  "
   ]
  },
  {
   "cell_type": "markdown",
   "metadata": {},
   "source": [
    "When I was in kindergarten (joking), I was always under the impression that $\\alpha + \\beta=1$. Intuitively, as we are making the model more \"strict\" by reducing its ability to make rejections (false positive rate ($\\alpha$) will decrease), and the model will make more false negative claims (false negative ($\\beta$) will increase).  The inverse relationship, in most relevant cases, is true. However, $\\alpha + \\beta$ is not necessarily equal to 1."
   ]
  },
  {
   "cell_type": "markdown",
   "metadata": {},
   "source": [
    "We define the power function to be\n",
    "\n",
    "> **Definition**. The **power function** of a test measures its ability to make a rejection. It is defined as:\n",
    ">\n",
    ">$$\n",
    "\\beta(\\theta) = E_{\\theta}[\\delta(\\bs{X})] = P_{\\theta}(\\bs{X}\\in R).\n",
    "$$"
   ]
  },
  {
   "cell_type": "markdown",
   "metadata": {},
   "source": [
    "From [Dr. Chris McMahan](http://mcmaha2.people.clemson.edu/index.html)'s excellent MATH 8040 notes, one example I particularly like is the following."
   ]
  },
  {
   "cell_type": "markdown",
   "metadata": {},
   "source": [
    "> **Example**. Let $X\\sim \\text{Binomial}(5,\\theta)$, and consider the hypothesis test\n",
    ">\n",
    ">$$\n",
    "\\begin{aligned}\n",
    "H_0 &: \\theta \\leq 1/2 \\\\\n",
    "H_1 &: \\theta > 1/2\n",
    "\\end{aligned}\n",
    ">\n",
    ">$$\n",
    "with the two rejection regions:\n",
    ">\n",
    ">$$\n",
    "\\begin{aligned}\n",
    "R_1 &= \\{x\\,: \\, x=5\\}\\\\\n",
    "R_2 &= \\{x\\,: \\, x\\geq 3\\}.\n",
    "\\end{aligned}\n",
    "$$"
   ]
  },
  {
   "cell_type": "markdown",
   "metadata": {},
   "source": [
    "The power functions of these two rejection regions are\n",
    "\n",
    "$$\n",
    "\\begin{aligned}\n",
    "\\beta_1(\\theta) &= P_{\\theta}(X=5) = \\theta^5 \\\\\n",
    "\\beta_2(\\theta) &= P_{\\theta}(X\\geq 3) = 10\\theta^3 (1-\\theta)^2 + 5\\theta^4 (1-\\theta) + \\theta^5\n",
    "\\end{aligned}\n",
    "$$"
   ]
  },
  {
   "cell_type": "markdown",
   "metadata": {},
   "source": [
    "The following plot from Dr. McMahan's notes is the best plot I have ever seen in terms of explaining the concept of model evaluation:"
   ]
  },
  {
   "cell_type": "markdown",
   "metadata": {},
   "source": [
    "<img src=\"2.png\" width=70% aligh=\"middle\">"
   ]
  },
  {
   "cell_type": "markdown",
   "metadata": {},
   "source": [
    "From the plot, we see that the red curve ($R_2$) is strickly above the black curve ($R_1$). The black curve has a lower probability of making a rejection than the red curve. This makes sense since it is a lot harder to land in $R_1$ than $R_2$."
   ]
  },
  {
   "cell_type": "markdown",
   "metadata": {},
   "source": [
    "If $\\theta \\in \\Theta_0$, the red curve has a higher FP rate than the black curve. However, when $\\theta \\in \\Theta_0^c$, the rate curve has a *lower* FN rate than the black curve.  Equivalently we can say that the red curve has a higher **sensitivity**  (or **power**) and a lower **specificity** than the black curve. I made some additions to the plot:"
   ]
  },
  {
   "cell_type": "markdown",
   "metadata": {},
   "source": [
    "<img src=\"3.png\" width=70% align=\"middle\">"
   ]
  },
  {
   "cell_type": "markdown",
   "metadata": {},
   "source": [
    "The more *sensitive* a model is, the less likely it is to overlook a false statement. Think of the hypothesis test as a judgemental person, and if the person is very sensitive, she is easily irritated or offended. As soon as a wrong word come out of your mouth, you will be rejected! :-) Additionally, we also refer to sensitivity as the *power* of a test. "
   ]
  },
  {
   "cell_type": "markdown",
   "metadata": {},
   "source": [
    "On the other hand, the more *specific* a model is, the less likely it is to reject a true statement. I am unable to think of an equally good analogy here in terms of the choice of word. I remember it this way: The more specific the description is, the better it is at verifying a true statement."
   ]
  },
  {
   "cell_type": "markdown",
   "metadata": {},
   "source": [
    "Let's summarize this section with a diagram:"
   ]
  },
  {
   "cell_type": "markdown",
   "metadata": {},
   "source": [
    "<img src=\"4.png\" width=50% align=\"middle\">"
   ]
  },
  {
   "cell_type": "markdown",
   "metadata": {},
   "source": [
    "In `sklearn`, we can use the `confusion_matrix` to easily obtain this table."
   ]
  },
  {
   "cell_type": "code",
   "execution_count": 1,
   "metadata": {},
   "outputs": [
    {
     "data": {
      "text/plain": [
       "array([[2, 2],\n",
       "       [0, 2]])"
      ]
     },
     "execution_count": 1,
     "metadata": {},
     "output_type": "execute_result"
    }
   ],
   "source": [
    "from sklearn.metrics import confusion_matrix\n",
    "\n",
    "y_true = [1, 0, 1, 1, 0, 1]\n",
    "y_pred = [0, 0, 1, 0, 0, 1]\n",
    "\n",
    "confusion_matrix(y_true, y_pred).transpose()"
   ]
  },
  {
   "cell_type": "markdown",
   "metadata": {},
   "source": [
    "Note that the original confusion matrix is the transpose of the diagram I used above; hence I transposed it to make it match the diagram. We see that there is no false positive predictions. This is correct since out of the two 1 predictions, the true values are also 1.  On the other hand, there are 2 false negatives predictions. Out of the four 0 predictions, two of them are incorrect."
   ]
  },
  {
   "cell_type": "markdown",
   "metadata": {},
   "source": [
    "## Precision and recall"
   ]
  },
  {
   "cell_type": "markdown",
   "metadata": {},
   "source": [
    "Another handy function from `sklearn` library is the `classification_report`."
   ]
  },
  {
   "cell_type": "code",
   "execution_count": 2,
   "metadata": {},
   "outputs": [
    {
     "name": "stdout",
     "output_type": "stream",
     "text": [
      "             precision    recall  f1-score   support\n",
      "\n",
      "   negative       0.50      1.00      0.67         2\n",
      "   positive       1.00      0.50      0.67         4\n",
      "\n",
      "avg / total       0.83      0.67      0.67         6\n",
      "\n"
     ]
    }
   ],
   "source": [
    "from sklearn.metrics import classification_report\n",
    "\n",
    "target_names = ['negative', 'positive']\n",
    "\n",
    "print(classification_report(y_true, y_pred, target_names=target_names))"
   ]
  },
  {
   "cell_type": "markdown",
   "metadata": {},
   "source": [
    "Here we encounter several new vocabularies. In particular, we see `precision` and `recall`. A quick search in [wikipedia](https://en.wikipedia.org/wiki/Precision_and_recall) yields the following excellent illustration:"
   ]
  },
  {
   "cell_type": "markdown",
   "metadata": {},
   "source": [
    "<img src=\"5.png\" width=50% align=\"middle\">"
   ]
  },
  {
   "cell_type": "markdown",
   "metadata": {},
   "source": [
    "In short, the term `recall` is the same as `sensitivity`.  The term `precision` is similar to `sensitivity` in the sense that both are positively affected by the power of the test. The only difference is that `precision` is negatively affected by total number of rejections, whereas `sensitivity` is negatively affected by the number of points that are in $\\Theta_0^c$ (the relevant items). "
   ]
  },
  {
   "cell_type": "markdown",
   "metadata": {},
   "source": [
    "Returning to the previous example, where\n",
    "\n",
    "$$\n",
    "\\begin{aligned}\n",
    "\\text{truth} &= \\{1, 0, 1, 1, 0, 1\\} \\\\\n",
    "\\text{prediction} &= \\{0, 0, 1, 0, 0, 1\\}\n",
    "\\end{aligned}\n",
    "$$"
   ]
  },
  {
   "cell_type": "markdown",
   "metadata": {},
   "source": [
    "The second row of the classification report gives a precision of 1 and recall of 0.5. This agrees with our previous analysis.  Previously, we find that there are no false negatives. In other words, out of all those (2) points that we predict to be positive, both are correct predictions. Hence, we have 100% `precision`.  However, out of all (4) points that are truly positive, we are only able to predict 2 of them. Hence, we have 50% `recall` or `sensitivity` or `power`. "
   ]
  },
  {
   "cell_type": "markdown",
   "metadata": {},
   "source": [
    "In general we want a balance between `precision` and `recall`!"
   ]
  }
 ],
 "metadata": {
  "kernelspec": {
   "display_name": "Python 3",
   "language": "python",
   "name": "python3"
  },
  "language_info": {
   "codemirror_mode": {
    "name": "ipython",
    "version": 3
   },
   "file_extension": ".py",
   "mimetype": "text/x-python",
   "name": "python",
   "nbconvert_exporter": "python",
   "pygments_lexer": "ipython3",
   "version": "3.6.5"
  },
  "toc": {
   "base_numbering": 1,
   "nav_menu": {},
   "number_sections": false,
   "sideBar": false,
   "skip_h1_title": false,
   "title_cell": "Table of Contents",
   "title_sidebar": "Contents",
   "toc_cell": false,
   "toc_position": {},
   "toc_section_display": false,
   "toc_window_display": false
  }
 },
 "nbformat": 4,
 "nbformat_minor": 2
}
