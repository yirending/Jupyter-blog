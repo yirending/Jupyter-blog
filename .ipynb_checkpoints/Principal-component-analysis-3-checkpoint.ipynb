{
 "cells": [
  {
   "cell_type": "markdown",
   "metadata": {},
   "source": [
    "# Principal Component Analysis (PCA) - Part 3\n",
    "\n",
    "### Elan Ding\n",
    "_Modified_: June 20, 2018"
   ]
  },
  {
   "cell_type": "markdown",
   "metadata": {},
   "source": [
    "You can visualize the PCA using the following app that I developed. First click on `Load Iris` button, and a table will appear below. Scroll through the table to get an idea of the data set. Select `Class` as the response variable and everything else as the feature variables. If you scroll down to the very bottom, you will see a 2D principal component plot is generated. For this data set, it looks like that a linear decision boundary is the best choice. "
   ]
  },
  {
   "cell_type": "markdown",
   "metadata": {},
   "source": [
    "<iframe id=\"app-frame\" src=\"https://elan-classify.herokuapp.com\"></iframe>"
   ]
  },
  {
   "cell_type": "markdown",
   "metadata": {},
   "source": [
    "You can also upload your own data set. However, currently the app only takes very clean data sets. So make sure there are no missing values and the dimension of columns match. More improvemnets will be made in the future! :-)"
   ]
  }
 ],
 "metadata": {
  "kernelspec": {
   "display_name": "Python 3",
   "language": "python",
   "name": "python3"
  },
  "language_info": {
   "codemirror_mode": {
    "name": "ipython",
    "version": 3
   },
   "file_extension": ".py",
   "mimetype": "text/x-python",
   "name": "python",
   "nbconvert_exporter": "python",
   "pygments_lexer": "ipython3",
   "version": "3.6.5"
  },
  "toc": {
   "base_numbering": 1,
   "nav_menu": {},
   "number_sections": false,
   "sideBar": false,
   "skip_h1_title": false,
   "title_cell": "Table of Contents",
   "title_sidebar": "Contents",
   "toc_cell": false,
   "toc_position": {},
   "toc_section_display": false,
   "toc_window_display": false
  }
 },
 "nbformat": 4,
 "nbformat_minor": 2
}
