{
 "cells": [
  {
   "cell_type": "markdown",
   "metadata": {},
   "source": [
    "# How to blog with Jupyter Notebook"
   ]
  },
  {
   "cell_type": "markdown",
   "metadata": {},
   "source": [
    "### Introduction"
   ]
  },
  {
   "cell_type": "markdown",
   "metadata": {},
   "source": [
    "Jupyter Notebook makes sharing ideas incredibly easy.  All one need is the `.ipynb` file and simply type in the command line\n",
    "```\n",
    "jupyter notebook\n",
    "```\n",
    "to view the file in the browser."
   ]
  },
  {
   "cell_type": "markdown",
   "metadata": {},
   "source": [
    "However, at some point, whether it is for job requirement or simply wanting to explore more functionalities, I want to be able to present my work to non-technical people who have never heard of Python or Jupyter Notebook.  This is where the wonderful `nbconvert` comes in. With Jupyter and Python installed, I can simply enter the following into the command line\n",
    "```\n",
    "jupyter nbconvert --to html myfile.ipynb\n",
    "\n",
    "```\n",
    "The output will be `myfile.html`, which can be opened by any modern web browser. "
   ]
  },
  {
   "cell_type": "markdown",
   "metadata": {},
   "source": [
    "However, the `.html` file obtained from nbconvert has no custom styling, so it does not look so good if I want to incorporate that into my blog.  In particular, it is missing a navigation bar, so I cannot go back to my homepage!  I did some research, and found this excellent [post](https://nipunbatra.github.io/blog/2017/Jupyter-powered-blog.html).  However, the approach seems too complicated for a non-cs person.  So I made some simplifications.  Hope this can be help those who are like me!"
   ]
  },
  {
   "cell_type": "markdown",
   "metadata": {},
   "source": [
    "### Customization"
   ]
  },
  {
   "cell_type": "markdown",
   "metadata": {},
   "source": [
    "The first step is to save three `.txt` files that contain your custom CSS, Javascript, and navigation bar. (Note that I provide my examples here, which will not work for you. You need to modify that to match your own website's styles.)"
   ]
  },
  {
   "cell_type": "markdown",
   "metadata": {},
   "source": [
    "#### navbar.txt"
   ]
  },
  {
   "cell_type": "code",
   "execution_count": null,
   "metadata": {},
   "outputs": [],
   "source": [
    "<nav class=\"navbar navbar-default\">\n",
    "    <div class=\"container text-center\">\n",
    "\n",
    "        <div id=\"navbar\" class=\"navbar-collapse\">\n",
    "            <ul class=\"nav navbar-nav\">\n",
    "                <li><a href=\"../../index.html\">Home</a></li>\n",
    "                <li><a href=\"../../projects.html\">Projects</a></li>\n",
    "                <li><a href=\"../../blog/index.html\">Blog</a></li>\n",
    "                <li><a href=\"../../files/cv.pdf\">CV</a></li>\n",
    "            </ul>\n",
    "        </div>\n",
    "    </div>\n",
    "</nav>"
   ]
  },
  {
   "cell_type": "markdown",
   "metadata": {},
   "source": [
    "#### main_css.txt"
   ]
  },
  {
   "cell_type": "code",
   "execution_count": null,
   "metadata": {},
   "outputs": [],
   "source": [
    "<meta name=\"viewport\" content=\"width=device-width, initial-scale=1\" />\n",
    "<link rel=\"stylesheet\" href=\"../../assets/css/bootstrap.min.css\" />\n",
    "<link rel=\"stylesheet\" href=\"../../assets/css/nipun-custom.css\" />"
   ]
  },
  {
   "cell_type": "markdown",
   "metadata": {},
   "source": [
    "#### main_js.txt"
   ]
  },
  {
   "cell_type": "code",
   "execution_count": null,
   "metadata": {},
   "outputs": [],
   "source": [
    "<script src=\"../../assets/js/jquery.min.js\"></script>\n",
    "<script src=\"../../assets/js/jquery.scrolly.min.js\"></script>\n",
    "<script src=\"../../assets/js/skel.min.js\"></script>\n",
    "<script src=\"../../assets/js/skel-viewport.min.js\"></script>\n",
    "<script src=\"../../assets/js/util.js\"></script>\n",
    "<script src=\"../../assets/js/main.js\"></script>"
   ]
  },
  {
   "cell_type": "markdown",
   "metadata": {},
   "source": [
    "### Converting to html"
   ]
  },
  {
   "cell_type": "markdown",
   "metadata": {},
   "source": [
    "If you don't have `nbconvert` installed, simply use\n",
    "```\n",
    "pip install nbconvert\n",
    "```\n",
    "to install it. Then, create this Python script:"
   ]
  },
  {
   "cell_type": "markdown",
   "metadata": {},
   "source": [
    "#### blog-convert.py"
   ]
  },
  {
   "cell_type": "code",
   "execution_count": null,
   "metadata": {},
   "outputs": [],
   "source": [
    "#!/usr/bin/env python\n",
    "\n",
    "import os\n",
    "from subprocess import Popen\n",
    "import sys\n",
    "\n",
    "read_navbar = open('navbar.txt', 'r').read()\n",
    "read_css = open('main_css.txt', 'r').read()\n",
    "read_gs = open('main_js.txt','r').read()\n",
    "\n",
    "\n",
    "inFile = sys.argv[1]\n",
    "Popen('jupyter nbconvert '+inFile, shell=True).wait()\n",
    "newFile = os.path.splitext(inFile)[0]+'.html'\n",
    "body = open(newFile, 'r').read()\n",
    "\n",
    "if read_navbar not in body:\n",
    "    body = body.replace(\"<body>\", \"<body>\\n\" + read_navbar)\n",
    "\n",
    "if read_gs not in body:\n",
    "    body = body.replace(\"</body>\", read_gs + \"\\n</body>\")\n",
    "\n",
    "if read_css not in body:\n",
    "    body = body.replace(\"<body>\", read_css + \"\\n<body>\")\n",
    "\n",
    "\n",
    "with open('blogpost.html', 'w') as f:\n",
    "    f.write(body) "
   ]
  },
  {
   "cell_type": "markdown",
   "metadata": {},
   "source": [
    "Basically this script converts your `.ipynb` file into `.html` first.  Then, it reads the file and adds your customization."
   ]
  },
  {
   "cell_type": "markdown",
   "metadata": {},
   "source": [
    "### Final step"
   ]
  },
  {
   "cell_type": "markdown",
   "metadata": {},
   "source": [
    "Finally, make sure all files are in the same directory, `cd` to that directory in your command line, and type\n",
    "```\n",
    "python blog-convert.py yourfile.ipynb\n",
    "```"
   ]
  },
  {
   "cell_type": "markdown",
   "metadata": {},
   "source": [
    "There you go! You should now have two new files:\n",
    "* `yourfile.html`\n",
    "* `blogpost.html`\n",
    "\n",
    "The first is the `.html` file created by `nbconvert` and the second file should have the same theme as your own webpage. "
   ]
  }
 ],
 "metadata": {
  "kernelspec": {
   "display_name": "Python 3",
   "language": "python",
   "name": "python3"
  },
  "language_info": {
   "codemirror_mode": {
    "name": "ipython",
    "version": 3
   },
   "file_extension": ".py",
   "mimetype": "text/x-python",
   "name": "python",
   "nbconvert_exporter": "python",
   "pygments_lexer": "ipython3",
   "version": "3.6.5"
  }
 },
 "nbformat": 4,
 "nbformat_minor": 2
}
