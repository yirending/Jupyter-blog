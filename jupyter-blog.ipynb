{
 "cells": [
  {
   "cell_type": "markdown",
   "metadata": {},
   "source": [
    "# How to blog with Jupyter Notebook\n",
    "\n",
    "[Github Repository](https://github.com/yirending/Jupyter-blog)"
   ]
  },
  {
   "cell_type": "markdown",
   "metadata": {},
   "source": [
    "### Introduction"
   ]
  },
  {
   "cell_type": "markdown",
   "metadata": {},
   "source": [
    "Jupyter Notebook makes sharing ideas incredibly easy.  All one need is the `.ipynb` file and simply type in the command line\n",
    "```\n",
    "jupyter notebook\n",
    "```\n",
    "to view the file in the browser."
   ]
  },
  {
   "cell_type": "markdown",
   "metadata": {},
   "source": [
    "However, at some point, whether it is for job requirement or simply wanting to explore more functionalities, I want to be able to present my work to non-technical people who have never heard of Python or Jupyter Notebook.  This is where the wonderful `nbconvert` comes in. With Jupyter and Python installed, I can simply enter the following into the command line\n",
    "```\n",
    "jupyter nbconvert --to html myfile.ipynb\n",
    "\n",
    "```\n",
    "The output will be `myfile.html`, which can be opened by any modern web browser. "
   ]
  },
  {
   "cell_type": "markdown",
   "metadata": {},
   "source": [
    "However, the `.html` file obtained from nbconvert has no custom styling, so it does not look so good if I want to incorporate that into my blog.  In particular, it is missing a navigation bar, so I cannot go back to my homepage!  I did some research, and found this excellent [post](https://nipunbatra.github.io/blog/2017/Jupyter-powered-blog.html).  I made some simplifications and customizations.  Hope this can hope those who are interested in blogging with Jupyter."
   ]
  },
  {
   "cell_type": "markdown",
   "metadata": {},
   "source": [
    "### Customization"
   ]
  },
  {
   "cell_type": "markdown",
   "metadata": {},
   "source": [
    "The first step is to create an empty HTML template so that we can manually inject all the stylings later. "
   ]
  },
  {
   "cell_type": "markdown",
   "metadata": {},
   "source": [
    "#### template.html"
   ]
  },
  {
   "cell_type": "code",
   "execution_count": null,
   "metadata": {},
   "outputs": [],
   "source": [
    "<!DOCTYPE html>\n",
    "<html>\n",
    "  <head>\n",
    "    [--mathjax--]\n",
    "    [--css--]\n",
    "  </head>\n",
    "\n",
    "  <body>\n",
    "    [--navbar--]\n",
    "    [--body--]\n",
    "    [--js--]\n",
    "  </body>\n",
    "</html>"
   ]
  },
  {
   "cell_type": "markdown",
   "metadata": {},
   "source": [
    "Notice that the tags `[--mathjax--]`, `[--cs--]`, `[--navbar--]`, `[--body--]`, and `[--js--]` are for customization purposes. Feel free to name them however you want."
   ]
  },
  {
   "cell_type": "markdown",
   "metadata": {},
   "source": [
    "Next, we are going to create some `.txt` files that correspond to these customization slots. (Note that I provide my examples here, which will not work for you. You need to modify that to match your own website's styles.)"
   ]
  },
  {
   "cell_type": "markdown",
   "metadata": {},
   "source": [
    "#### navbar.txt"
   ]
  },
  {
   "cell_type": "code",
   "execution_count": null,
   "metadata": {},
   "outputs": [],
   "source": [
    "<nav class=\"navbar navbar-default\">\n",
    "    <div class=\"container text-center\">\n",
    "\n",
    "        <div id=\"navbar\" class=\"navbar-collapse\">\n",
    "            <ul class=\"nav navbar-nav\">\n",
    "                <li><a href=\"../../index.html\">Home</a></li>\n",
    "                <li><a href=\"../../projects.html\">Projects</a></li>\n",
    "                <li><a href=\"../../blog/index.html\">Blog</a></li>\n",
    "                <li><a href=\"../../files/cv.pdf\">CV</a></li>\n",
    "            </ul>\n",
    "        </div>\n",
    "    </div>\n",
    "</nav>"
   ]
  },
  {
   "cell_type": "markdown",
   "metadata": {},
   "source": [
    "#### main_css.txt"
   ]
  },
  {
   "cell_type": "code",
   "execution_count": null,
   "metadata": {},
   "outputs": [],
   "source": [
    "<meta charset=\"utf-8\">\n",
    "<meta http-equiv=\"X-UA-Compatible\" content=\"IE=edge\">\n",
    "<meta name=\"viewport\" content=\"width=device-width, initial-scale=1\">\n",
    "<meta name=\"description\" content=\"\">\n",
    "<meta name=\"author\" content=\"\">\n",
    "<title>Elan Ding</title>\n",
    "<link rel=\"stylesheet\" href=\"../../assets/css/bootstrap.min.css\" />\n",
    "<link rel=\"stylesheet\" href=\"../../assets/css/elan-custom.css\" />"
   ]
  },
  {
   "cell_type": "markdown",
   "metadata": {},
   "source": [
    "Note that the file `bootstrap.min.css` is the bootstrap custom theme obtained [here](https://bootswatch.com).  My own custom css file is stored in `elan-custom.css`.  My custom customization, which includes something like this:"
   ]
  },
  {
   "cell_type": "code",
   "execution_count": null,
   "metadata": {},
   "outputs": [],
   "source": [
    "body {\n",
    "    font-family:  \"Arial Narrow Bold\", sans-serif;\n",
    "    margin: 10%;\n",
    "    font-size: 21px;\n",
    "    line-height: 1.42857143;\n",
    "    color: #777777;\n",
    "    background-color: #ffffff\n",
    "}"
   ]
  },
  {
   "cell_type": "markdown",
   "metadata": {},
   "source": [
    "#### main_js.txt"
   ]
  },
  {
   "cell_type": "code",
   "execution_count": null,
   "metadata": {},
   "outputs": [],
   "source": [
    "<script src=\"../../assets/js/jquery.min.js\"></script>\n",
    "<script src=\"../../assets/js/jquery.scrolly.min.js\"></script>\n",
    "<script src=\"../../assets/js/skel.min.js\"></script>\n",
    "<script src=\"../../assets/js/skel-viewport.min.js\"></script>\n",
    "<script src=\"../../assets/js/util.js\"></script>\n",
    "<script src=\"../../assets/js/main.js\"></script>"
   ]
  },
  {
   "cell_type": "markdown",
   "metadata": {},
   "source": [
    "#### mathjax.txt"
   ]
  },
  {
   "cell_type": "markdown",
   "metadata": {},
   "source": [
    "<script src='https://cdnjs.cloudflare.com/ajax/libs/mathjax/2.7.4/latest.js?config=TeX-MML-AM_CHTML' async></script>\n",
    "\n",
    "<script type=\"text/x-mathjax-config\">\n",
    "  MathJax.Hub.Config({\n",
    "    extensions: [\"tex2jax.js\"],\n",
    "    jax: [\"input/TeX\", \"output/HTML-CSS\"],\n",
    "    tex2jax: {\n",
    "      inlineMath: [ ['$','$'], [\"\\\\(\",\"\\\\)\"] ],\n",
    "      displayMath: [ ['$$','$$'], [\"\\\\[\",\"\\\\]\"] ],\n",
    "      processEscapes: true\n",
    "    }\n",
    "  });\n",
    "</script>"
   ]
  },
  {
   "cell_type": "markdown",
   "metadata": {},
   "source": [
    "Notice that I did not create the file for `[--body--]` yet. This will be the main body of the html file, which comes from using `nbconvert`. Let's do that using Python."
   ]
  },
  {
   "cell_type": "markdown",
   "metadata": {},
   "source": [
    "### Converting to html"
   ]
  },
  {
   "cell_type": "markdown",
   "metadata": {},
   "source": [
    "If you don't have `nbconvert` installed, simply type\n",
    "```\n",
    "pip install nbconvert\n",
    "```\n",
    "in your terminal to install it. Then, create this Python script:"
   ]
  },
  {
   "cell_type": "markdown",
   "metadata": {},
   "source": [
    "#### blog-convert.py"
   ]
  },
  {
   "cell_type": "code",
   "execution_count": null,
   "metadata": {},
   "outputs": [],
   "source": [
    "#!/usr/bin/env python\n",
    "\n",
    "import os\n",
    "from subprocess import Popen\n",
    "import sys\n",
    "\n",
    "inFile = sys.argv[1]\n",
    "Popen('jupyter nbconvert '+inFile +' --template basic', shell=True).wait()\n",
    "newFile = os.path.splitext(inFile)[0]+'.html'\n",
    "\n",
    "template = open('custom/template.html', 'r').read()\n",
    "\n",
    "read_navbar = open('custom/navbar.txt', 'r').read()\n",
    "read_css = open('custom/main_css.txt', 'r').read()\n",
    "read_gs = open('custom/main_js.txt','r').read()\n",
    "read_body = open(newFile, 'r').read()\n",
    "read_mathjax = open('custom/mathjax.txt', 'r').read()\n",
    "\n",
    "template = template.replace(\"[--navbar--]\", \"\\n\" + read_navbar + \"\\n\")\n",
    "template = template.replace(\"[--js--]\", \"\\n\" + read_gs + \"\\n\")\n",
    "template = template.replace(\"[--css--]\", \"\\n\" + read_css + \"\\n\")\n",
    "template = template.replace(\"[--body--]\", \"\\n\" + read_body + \"\\n\")\n",
    "template = template.replace(\"[--mathjax--]\", \"\\n\" + read_mathjax + \"\\n\")\n",
    "\n",
    "with open(newFile, 'w') as f:\n",
    "    f.write(template)"
   ]
  },
  {
   "cell_type": "markdown",
   "metadata": {},
   "source": [
    "Basically this script converts your `.ipynb` file into a raw `.html` first.  Then, it reads this file as the `[--body--]` in the template. Finally, it fills in all the missing pieces in `template.html`. "
   ]
  },
  {
   "cell_type": "markdown",
   "metadata": {},
   "source": [
    "### Final step"
   ]
  },
  {
   "cell_type": "markdown",
   "metadata": {},
   "source": [
    "Finally, make sure all files are in the same directory, which looks something like this:\n",
    "\n",
    "* README.md\n",
    "* blog-convert.py\n",
    "* custom\n",
    "    * main_css.txt\n",
    "    * main_js.txt\n",
    "    * mathjax.txt\n",
    "    * navbar.txt\n",
    "    * template.html\n",
    "* yourfile.ipynb\n",
    "\n",
    "Next, `cd` to that directory in your command line, and type\n",
    "```\n",
    "python blog-convert.py yourfile.ipynb\n",
    "```"
   ]
  },
  {
   "cell_type": "markdown",
   "metadata": {},
   "source": [
    "There you go! You should see a new file `yourfile.html`, which integrates into your website. The files used here are available to download on [Github](https://github.com/yirending/Jupyter-blog). "
   ]
  }
 ],
 "metadata": {
  "kernelspec": {
   "display_name": "Python 3",
   "language": "python",
   "name": "python3"
  },
  "language_info": {
   "codemirror_mode": {
    "name": "ipython",
    "version": 3
   },
   "file_extension": ".py",
   "mimetype": "text/x-python",
   "name": "python",
   "nbconvert_exporter": "python",
   "pygments_lexer": "ipython3",
   "version": "3.6.5"
  }
 },
 "nbformat": 4,
 "nbformat_minor": 2
}
